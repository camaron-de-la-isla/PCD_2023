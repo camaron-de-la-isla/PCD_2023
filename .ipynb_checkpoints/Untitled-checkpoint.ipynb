{
 "cells": [
  {
   "cell_type": "code",
   "execution_count": 7,
   "id": "b04726d2-0f85-4024-a2f8-a0138ce1647e",
   "metadata": {},
   "outputs": [],
   "source": [
    "### Primera clase PCD"
   ]
  },
  {
   "cell_type": "markdown",
   "id": "c998fcb4-5b38-4223-85f7-be24bab6f0a2",
   "metadata": {},
   "source": [
    "1. Muestra que version de pip tiene?"
   ]
  },
  {
   "cell_type": "code",
   "execution_count": 3,
   "id": "d7189ba4-15cc-41df-8cf1-d539d5f19668",
   "metadata": {},
   "outputs": [
    {
     "name": "stdout",
     "output_type": "stream",
     "text": [
      "pip 23.2.1 from C:\\Users\\sergi\\AppData\\Local\\Programs\\Python\\Python311\\Lib\\site-packages\\pip (python 3.11)\n",
      "\n"
     ]
    }
   ],
   "source": [
    "!pip --version"
   ]
  },
  {
   "cell_type": "markdown",
   "id": "0da3be69-1601-4eab-b1a0-8ed3d4a65ae7",
   "metadata": {},
   "source": [
    "# Caracteristicas de mi equipo"
   ]
  },
  {
   "cell_type": "code",
   "execution_count": 4,
   "id": "0e1d94c2-4673-4f59-b438-1cd3e718fb43",
   "metadata": {},
   "outputs": [],
   "source": [
    "import platform as pt"
   ]
  },
  {
   "cell_type": "code",
   "execution_count": 9,
   "id": "3f5eb9ab-e0d0-4887-a812-f60e71057881",
   "metadata": {},
   "outputs": [
    {
     "data": {
      "text/plain": [
       "'Intel64 Family 6 Model 140 Stepping 1, GenuineIntel'"
      ]
     },
     "execution_count": 9,
     "metadata": {},
     "output_type": "execute_result"
    }
   ],
   "source": [
    "pt.processor()"
   ]
  },
  {
   "cell_type": "code",
   "execution_count": 10,
   "id": "acbefb83-aa47-41d3-939a-22c6ea46b47d",
   "metadata": {},
   "outputs": [
    {
     "data": {
      "text/plain": [
       "uname_result(system='Windows', node='MSI', release='10', version='10.0.22000', machine='AMD64')"
      ]
     },
     "execution_count": 10,
     "metadata": {},
     "output_type": "execute_result"
    }
   ],
   "source": [
    "pt.uname()"
   ]
  },
  {
   "cell_type": "code",
   "execution_count": 11,
   "id": "083b76d3-4a9a-47d8-9234-5f0c7555bd1a",
   "metadata": {},
   "outputs": [
    {
     "data": {
      "text/plain": [
       "'Windows-10-10.0.22000-SP0'"
      ]
     },
     "execution_count": 11,
     "metadata": {},
     "output_type": "execute_result"
    }
   ],
   "source": [
    "pt.platform()"
   ]
  },
  {
   "cell_type": "markdown",
   "id": "90c8a6fd-17be-427c-9a1a-9f09c0459cf3",
   "metadata": {},
   "source": [
    "### Cores ?"
   ]
  },
  {
   "cell_type": "markdown",
   "id": "2e4fd9df-e462-4a3f-afb7-93112c4769b8",
   "metadata": {},
   "source": [
    "import os"
   ]
  },
  {
   "cell_type": "code",
   "execution_count": 18,
   "id": "2c4adb1e-6404-43d6-8aa3-e85b877ba540",
   "metadata": {},
   "outputs": [
    {
     "ename": "NameError",
     "evalue": "name 'os' is not defined",
     "output_type": "error",
     "traceback": [
      "\u001b[1;31m---------------------------------------------------------------------------\u001b[0m",
      "\u001b[1;31mNameError\u001b[0m                                 Traceback (most recent call last)",
      "Cell \u001b[1;32mIn[18], line 1\u001b[0m\n\u001b[1;32m----> 1\u001b[0m \u001b[43mos\u001b[49m\u001b[38;5;241m.\u001b[39mcpu_count()\n",
      "\u001b[1;31mNameError\u001b[0m: name 'os' is not defined"
     ]
    }
   ],
   "source": [
    "os.cpu_count()"
   ]
  },
  {
   "cell_type": "code",
   "execution_count": null,
   "id": "870ede96-0b5a-47e3-be89-3f739179e776",
   "metadata": {},
   "outputs": [],
   "source": []
  }
 ],
 "metadata": {
  "kernelspec": {
   "display_name": "Python 3 (ipykernel)",
   "language": "python",
   "name": "python3"
  },
  "language_info": {
   "codemirror_mode": {
    "name": "ipython",
    "version": 3
   },
   "file_extension": ".py",
   "mimetype": "text/x-python",
   "name": "python",
   "nbconvert_exporter": "python",
   "pygments_lexer": "ipython3",
   "version": "3.11.5"
  }
 },
 "nbformat": 4,
 "nbformat_minor": 5
}
