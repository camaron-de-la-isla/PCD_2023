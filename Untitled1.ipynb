{
 "cells": [
  {
   "cell_type": "markdown",
   "id": "89a70d16-6ff2-4e1d-934e-07209893abcc",
   "metadata": {},
   "source": [
    "# 3/Oct/2023"
   ]
  },
  {
   "cell_type": "markdown",
   "id": "aa18d185-92ac-4432-94be-df7276ff12b2",
   "metadata": {},
   "source": [
    "## Import libs, manage threads"
   ]
  },
  {
   "cell_type": "code",
   "execution_count": 1,
   "id": "74d0a7cb-d006-43ab-81bd-5d3587d10a02",
   "metadata": {},
   "outputs": [],
   "source": [
    "import threading as th"
   ]
  },
  {
   "cell_type": "code",
   "execution_count": 2,
   "id": "7ae1e6ec-5c33-4936-a975-d79c365769a8",
   "metadata": {},
   "outputs": [
    {
     "data": {
      "text/plain": [
       "6"
      ]
     },
     "execution_count": 2,
     "metadata": {},
     "output_type": "execute_result"
    }
   ],
   "source": [
    "th.active_count()"
   ]
  },
  {
   "cell_type": "code",
   "execution_count": 3,
   "id": "1958b41d-b9c4-4336-890a-a3dc0fec0dd9",
   "metadata": {
    "scrolled": true
   },
   "outputs": [
    {
     "data": {
      "text/plain": [
       "[<_MainThread(MainThread, started 13040)>,\n",
       " <Thread(IOPub, started daemon 1864)>,\n",
       " <Heartbeat(Heartbeat, started daemon 29612)>,\n",
       " <ControlThread(Control, started daemon 26620)>,\n",
       " <HistorySavingThread(IPythonHistorySavingThread, started 18784)>,\n",
       " <ParentPollerWindows(Thread-4, started daemon 6080)>]"
      ]
     },
     "execution_count": 3,
     "metadata": {},
     "output_type": "execute_result"
    }
   ],
   "source": [
    "th.enumerate()"
   ]
  },
  {
   "cell_type": "markdown",
   "id": "74bbf786-a139-4541-aca5-353423417373",
   "metadata": {},
   "source": [
    "### Who is the parent?"
   ]
  },
  {
   "cell_type": "code",
   "execution_count": 4,
   "id": "d4d8e6d8-e9a2-4585-a48d-64f7b09e6958",
   "metadata": {},
   "outputs": [],
   "source": [
    "import os"
   ]
  },
  {
   "cell_type": "code",
   "execution_count": 5,
   "id": "58727873-45f2-4f6e-82de-c98b25cde13f",
   "metadata": {},
   "outputs": [],
   "source": [
    "import multiprocessing as mp # Manages cores"
   ]
  },
  {
   "cell_type": "code",
   "execution_count": 6,
   "id": "22766ad2-3091-4dc8-969d-0e42fd1eb153",
   "metadata": {},
   "outputs": [],
   "source": [
    "from IPython import display as dp"
   ]
  },
  {
   "cell_type": "code",
   "execution_count": 7,
   "id": "b022d09a-7f96-4d25-a3af-8b5406d5d12d",
   "metadata": {},
   "outputs": [
    {
     "data": {
      "image/png": "[encoded data removed]",
      "text/plain": [
       "<IPython.core.display.Image object>"
      ]
     },
     "execution_count": 7,
     "metadata": {},
     "output_type": "execute_result"
    }
   ],
   "source": [
    "dp.Image(\"proceso_principal.png\")"
   ]
  },
  {
   "cell_type": "code",
   "execution_count": 8,
   "id": "af4b3e68-5373-4994-bbb7-166877e6afa6",
   "metadata": {},
   "outputs": [
    {
     "data": {
      "text/plain": [
       "24632"
      ]
     },
     "execution_count": 8,
     "metadata": {},
     "output_type": "execute_result"
    }
   ],
   "source": [
    "os.getpid()"
   ]
  },
  {
   "cell_type": "code",
   "execution_count": 9,
   "id": "1580e943-190e-4211-8208-762b4d39f35c",
   "metadata": {},
   "outputs": [],
   "source": [
    "## threads vs process"
   ]
  },
  {
   "cell_type": "code",
   "execution_count": 10,
   "id": "34745fc3-302f-475f-9d32-46e4df7bde4e",
   "metadata": {},
   "outputs": [],
   "source": [
    "### threads ex:"
   ]
  },
  {
   "cell_type": "code",
   "execution_count": 11,
   "id": "0df14ea8-2517-4c5f-801d-8ed2fb20e5cd",
   "metadata": {},
   "outputs": [],
   "source": [
    "def do_nothing():\n",
    "    while True:\n",
    "        pass"
   ]
  },
  {
   "cell_type": "code",
   "execution_count": null,
   "id": "a7b3e06a-74d6-482a-87d5-38b19baeed48",
   "metadata": {},
   "outputs": [],
   "source": [
    "for i in range(20):\n",
    "    th.Thread(target=do_nothing()).start\n",
    "th.enumerate()"
   ]
  },
  {
   "cell_type": "code",
   "execution_count": null,
   "id": "3633acaa-b4c5-4c53-ae8f-4635c303ce38",
   "metadata": {},
   "outputs": [],
   "source": [
    "### Process ex:"
   ]
  },
  {
   "cell_type": "code",
   "execution_count": null,
   "id": "9f1f1995-de3d-4466-9b73-99ff2eb32074",
   "metadata": {},
   "outputs": [],
   "source": [
    "for i in range(20):\n",
    "    mp.Process(target=do_nothing()).start"
   ]
  },
  {
   "cell_type": "markdown",
   "id": "874e4fde-88c8-4729-ac5d-1eb30c65ca08",
   "metadata": {},
   "source": [
    "### Cuantos hilos puedo instanciar?"
   ]
  },
  {
   "cell_type": "code",
   "execution_count": null,
   "id": "31d54942-6935-4845-9883-e05030ff270d",
   "metadata": {},
   "outputs": [],
   "source": []
  },
  {
   "cell_type": "markdown",
   "id": "aa5445dd-fa2d-4522-a907-00671aeb08c3",
   "metadata": {},
   "source": [
    "## Import libs, manage process (cores)"
   ]
  },
  {
   "cell_type": "code",
   "execution_count": null,
   "id": "7ad6fb1a-ca68-4d3a-9083-2f6752990172",
   "metadata": {},
   "outputs": [],
   "source": [
    "import multiprocessing as mp # Manages cores"
   ]
  },
  {
   "cell_type": "code",
   "execution_count": null,
   "id": "b0120575-1430-43f0-b644-2a3be8ddaea4",
   "metadata": {},
   "outputs": [],
   "source": [
    "mp.cpu_count()"
   ]
  },
  {
   "cell_type": "code",
   "execution_count": null,
   "id": "f2d09747-74b9-49f1-bbb8-98f8a0756644",
   "metadata": {},
   "outputs": [],
   "source": []
  },
  {
   "cell_type": "code",
   "execution_count": null,
   "id": "3bccc626-f70e-421c-b0a6-d95c3ba1004f",
   "metadata": {},
   "outputs": [],
   "source": [
    "mp.current_process()"
   ]
  },
  {
   "cell_type": "markdown",
   "id": "4bcd61b5-7ffd-4d6a-a027-be706a049dba",
   "metadata": {},
   "source": [
    "### Cual es mi interprete de Python?"
   ]
  },
  {
   "cell_type": "code",
   "execution_count": null,
   "id": "811b23ac-a9ba-495a-8262-58ddc2934452",
   "metadata": {},
   "outputs": [],
   "source": [
    "! python --version"
   ]
  },
  {
   "cell_type": "markdown",
   "id": "c1bc908b-48d6-4e65-a841-29ad317631aa",
   "metadata": {},
   "source": [
    "import platform as pt"
   ]
  },
  {
   "cell_type": "code",
   "execution_count": null,
   "id": "b1a9ae78-35f3-4042-aa47-a4bb751ba20f",
   "metadata": {},
   "outputs": [],
   "source": [
    "pt.python_implementation()"
   ]
  },
  {
   "cell_type": "code",
   "execution_count": null,
   "id": "6c27986a-2c30-4e44-9b07-096ea7ddf6b0",
   "metadata": {},
   "outputs": [],
   "source": [
    "pt.python_compiler()"
   ]
  },
  {
   "cell_type": "code",
   "execution_count": null,
   "id": "c141a3db-8c65-4c8b-a2f1-843a511e554a",
   "metadata": {},
   "outputs": [],
   "source": [
    "[1,2,3,4],[4,6,7]"
   ]
  },
  {
   "cell_type": "code",
   "execution_count": null,
   "id": "8d73d96d-b437-4642-ab64-6f01656c9593",
   "metadata": {},
   "outputs": [],
   "source": []
  },
  {
   "cell_type": "code",
   "execution_count": null,
   "id": "37a30361-4cb1-4714-be5f-f4d1915fe825",
   "metadata": {},
   "outputs": [],
   "source": [
    "git status"
   ]
  },
  {
   "cell_type": "code",
   "execution_count": null,
   "id": "2f28526f-51e3-47c1-ac4e-ac6e81dc464e",
   "metadata": {},
   "outputs": [],
   "source": []
  }
 ],
 "metadata": {
  "kernelspec": {
   "display_name": "Python 3 (ipykernel)",
   "language": "python",
   "name": "python3"
  },
  "language_info": {
   "codemirror_mode": {
    "name": "ipython",
    "version": 3
   },
   "file_extension": ".py",
   "mimetype": "text/x-python",
   "name": "python",
   "nbconvert_exporter": "python",
   "pygments_lexer": "ipython3",
   "version": "3.11.5"
  }
 },
 "nbformat": 4,
 "nbformat_minor": 5
}
